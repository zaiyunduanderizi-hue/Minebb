{
 "cells": [
  {
   "cell_type": "markdown",
   "metadata": {},
   "source": [
    "# 用户使用指南\n",
    "\n",
    "## 安装\n",
    "### 从PyPI安装\n",
    "`pip install lixinger-openapi`\n",
    "\n",
    "### 从Github安装\n",
    "`pip install git+http://github.com/ShekiLyu/lixinger-openapi.git`\n",
    "\n",
    "### 从PyPI更新\n",
    "`pip install --upgrade lixinger-openapi`\n",
    "\n",
    "### 从Github更新\n",
    "`pip install --upgrade git+http://github.com/ShekiLyu/lixinger-openapi.git`\n",
    "\n",
    "## 接口列表\n",
    "接口名               | 接口功能\n",
    "------------------- | -------------------------\n",
    "set\\_token          | 设置token\n",
    "query\\_json         | 查询数据(json格式)\n",
    "query\\_dataframe    | 查询数据(dataframe格式)\n",
    "\n",
    "\n",
    "## 使用方法\n",
    "\n",
    "### 引入包"
   ]
  },
  {
   "cell_type": "code",
   "execution_count": 7,
   "metadata": {},
   "outputs": [],
   "source": [
    "import lixinger_openapi as lo"
   ]
  },
  {
   "cell_type": "markdown",
   "metadata": {},
   "source": [
    "### 加载token"
   ]
  },
  {
   "cell_type": "code",
   "execution_count": 2,
   "metadata": {
    "collapsed": true
   },
   "outputs": [],
   "source": [
    "lo.set_token(\"your_token\")"
   ]
  },
  {
   "cell_type": "markdown",
   "metadata": {},
   "source": [
    "set_token会目录下生成token.cfg文件保存token，所以在当前目录只需加载一次。如果不想写token.cfg文件，可以如下设置："
   ]
  },
  {
   "cell_type": "code",
   "execution_count": 8,
   "metadata": {},
   "outputs": [],
   "source": [
    "lo.set_token(\"your_token\", write_token=False)"
   ]
  },
  {
   "cell_type": "markdown",
   "metadata": {},
   "source": [
    "### 查询（使用理杏仁开放平台上的示例）\n",
    "#### A股公司基本面数据\n",
    "##### json格式"
   ]
  },
  {
   "cell_type": "code",
   "execution_count": 15,
   "metadata": {},
   "outputs": [
    {
     "name": "stdout",
     "output_type": "stream",
     "text": [
      "{'data': [{'date': '2018-01-19T00:00:00+08:00', 'pe_ttm': 21.046568599508507, 'stockCode': '000028', 'mc': 26663748314.4}, {'date': '2018-01-19T00:00:00+08:00', 'pe_ttm': 21.459988206744743, 'stockCode': '600511', 'mc': 20346751061}], 'code': 0, 'msg': 'success'}\n"
     ]
    }
   ],
   "source": [
    "json_rlt = lo.query_json('a.stock.fundamental.non_financial', \n",
    "    {\n",
    "        \"date\": \"2018-01-19\",\n",
    "        \"stockCodes\": [\n",
    "            \"000028\",\n",
    "            \"600511\"\n",
    "        ],\n",
    "        \"metricsList\": [\n",
    "            \"pe_ttm\",\n",
    "            \"mc\"\n",
    "        ]\n",
    "    })\n",
    "print(json_rlt)"
   ]
  },
  {
   "cell_type": "markdown",
   "metadata": {},
   "source": [
    "##### dataframe格式"
   ]
  },
  {
   "cell_type": "code",
   "execution_count": 19,
   "metadata": {},
   "outputs": [
    {
     "name": "stdout",
     "output_type": "stream",
     "text": [
      "code: 0\n",
      "\n",
      "data:\n",
      "                        date            mc     pe_ttm stockCode\n",
      "0  2018-01-19T00:00:00+08:00  2.666375e+10  21.046569    000028\n",
      "1  2018-01-19T00:00:00+08:00  2.034675e+10  21.459988    600511\n",
      "\n",
      "msg: success\n"
     ]
    }
   ],
   "source": [
    "dataframe_rlt = lo.query_dataframe('a.stock.fundamental.non_financial', \n",
    "    {\n",
    "        \"date\": \"2018-01-19\",\n",
    "        \"metricsList\": [\"pe_ttm\", \"mc\"],\n",
    "        \"stockCodes\": [\"000028\", \"600511\"]\n",
    "    })\n",
    "print('code: '+ str(dataframe_rlt['code']))\n",
    "print('\\ndata:')\n",
    "print(dataframe_rlt['data'])\n",
    "print('\\nmsg: ' + dataframe_rlt['msg'])"
   ]
  },
  {
   "cell_type": "markdown",
   "metadata": {},
   "source": [
    "#### A股指数基本信息\n",
    "##### json格式"
   ]
  },
  {
   "cell_type": "code",
   "execution_count": 20,
   "metadata": {},
   "outputs": [
    {
     "name": "stdout",
     "output_type": "stream",
     "text": [
      "{'data': [{'source': 'sh', 'cnName': '上证50', 'publishDate': '2004-01-01T16:00:00.000Z', 'stockCode': '000016', 'areaCode': 'cn', 'market': 'a'}], 'code': 0, 'msg': 'success'}\n"
     ]
    }
   ],
   "source": [
    "json_rlt = lo.query_json('a.index', {\n",
    "    \"stockCodes\": [\n",
    "        \"000016\"\n",
    "    ]\n",
    "})\n",
    "print(json_rlt)"
   ]
  },
  {
   "cell_type": "markdown",
   "metadata": {},
   "source": [
    "##### dataframe格式"
   ]
  },
  {
   "cell_type": "code",
   "execution_count": 21,
   "metadata": {},
   "outputs": [
    {
     "name": "stdout",
     "output_type": "stream",
     "text": [
      "code: 0\n",
      "\n",
      "data:\n",
      "  areaCode cnName market               publishDate source stockCode\n",
      "0       cn   上证50      a  2004-01-01T16:00:00.000Z     sh    000016\n",
      "\n",
      "msg: success\n"
     ]
    }
   ],
   "source": [
    "dataframe_rlt = lo.query_dataframe('a.index', {\n",
    "    \"stockCodes\": [\n",
    "        \"000016\"\n",
    "    ]\n",
    "})\n",
    "print('code: '+ str(dataframe_rlt['code']))\n",
    "print('\\ndata:')\n",
    "print(dataframe_rlt['data'])\n",
    "print('\\nmsg: ' + dataframe_rlt['msg'])"
   ]
  }
 ],
 "metadata": {
  "kernelspec": {
   "display_name": "quant",
   "language": "python",
   "name": "quant"
  },
  "language_info": {
   "codemirror_mode": {
    "name": "ipython",
    "version": 3
   },
   "file_extension": ".py",
   "mimetype": "text/x-python",
   "name": "python",
   "nbconvert_exporter": "python",
   "pygments_lexer": "ipython3",
   "version": "3.8.1"
  }
 },
 "nbformat": 4,
 "nbformat_minor": 2
}
